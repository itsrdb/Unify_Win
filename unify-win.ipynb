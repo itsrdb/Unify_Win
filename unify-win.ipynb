{
 "cells": [
  {
   "cell_type": "code",
   "execution_count": 12,
   "metadata": {},
   "outputs": [
    {
     "ename": "ValueError",
     "evalue": "The default Firebase app already exists. This means you called initialize_app() more than once without providing an app name as the second argument. In most cases you only need to call initialize_app() once. But if you do want to initialize multiple apps, pass a second argument to initialize_app() to give each app a unique name.",
     "output_type": "error",
     "traceback": [
      "\u001b[1;31m---------------------------------------------------------------------------\u001b[0m",
      "\u001b[1;31mValueError\u001b[0m                                Traceback (most recent call last)",
      "Input \u001b[1;32mIn [12]\u001b[0m, in \u001b[0;36m<module>\u001b[1;34m\u001b[0m\n\u001b[0;32m      2\u001b[0m \u001b[39mfrom\u001b[39;00m \u001b[39mfirebase_admin\u001b[39;00m \u001b[39mimport\u001b[39;00m credentials\n\u001b[0;32m      4\u001b[0m cred_obj \u001b[39m=\u001b[39m credentials\u001b[39m.\u001b[39mCertificate(\u001b[39m\"\u001b[39m\u001b[39munify-bridge-firebase-adminsdk-78vje-a8ec535fca.json\u001b[39m\u001b[39m\"\u001b[39m)\n\u001b[1;32m----> 5\u001b[0m default_app \u001b[39m=\u001b[39m firebase_admin\u001b[39m.\u001b[39;49minitialize_app(cred_obj, {\n\u001b[0;32m      6\u001b[0m \t\u001b[39m'\u001b[39;49m\u001b[39mdatabaseURL\u001b[39;49m\u001b[39m'\u001b[39;49m:\u001b[39m'\u001b[39;49m\u001b[39mhttps://unify-bridge-default-rtdb.firebaseio.com/\u001b[39;49m\u001b[39m'\u001b[39;49m\n\u001b[0;32m      7\u001b[0m \t})\n",
      "File \u001b[1;32m~\\AppData\\Local\\Programs\\Python\\Python310\\lib\\site-packages\\firebase_admin\\__init__.py:71\u001b[0m, in \u001b[0;36minitialize_app\u001b[1;34m(credential, options, name)\u001b[0m\n\u001b[0;32m     <a href='file:///~/AppData/Local/Programs/Python/Python310/lib/site-packages/firebase_admin/__init__.py?line=67'>68</a>\u001b[0m         \u001b[39mreturn\u001b[39;00m app\n\u001b[0;32m     <a href='file:///~/AppData/Local/Programs/Python/Python310/lib/site-packages/firebase_admin/__init__.py?line=69'>70</a>\u001b[0m \u001b[39mif\u001b[39;00m name \u001b[39m==\u001b[39m _DEFAULT_APP_NAME:\n\u001b[1;32m---> <a href='file:///~/AppData/Local/Programs/Python/Python310/lib/site-packages/firebase_admin/__init__.py?line=70'>71</a>\u001b[0m     \u001b[39mraise\u001b[39;00m \u001b[39mValueError\u001b[39;00m((\n\u001b[0;32m     <a href='file:///~/AppData/Local/Programs/Python/Python310/lib/site-packages/firebase_admin/__init__.py?line=71'>72</a>\u001b[0m         \u001b[39m'\u001b[39m\u001b[39mThe default Firebase app already exists. This means you called \u001b[39m\u001b[39m'\u001b[39m\n\u001b[0;32m     <a href='file:///~/AppData/Local/Programs/Python/Python310/lib/site-packages/firebase_admin/__init__.py?line=72'>73</a>\u001b[0m         \u001b[39m'\u001b[39m\u001b[39minitialize_app() more than once without providing an app name as \u001b[39m\u001b[39m'\u001b[39m\n\u001b[0;32m     <a href='file:///~/AppData/Local/Programs/Python/Python310/lib/site-packages/firebase_admin/__init__.py?line=73'>74</a>\u001b[0m         \u001b[39m'\u001b[39m\u001b[39mthe second argument. In most cases you only need to call \u001b[39m\u001b[39m'\u001b[39m\n\u001b[0;32m     <a href='file:///~/AppData/Local/Programs/Python/Python310/lib/site-packages/firebase_admin/__init__.py?line=74'>75</a>\u001b[0m         \u001b[39m'\u001b[39m\u001b[39minitialize_app() once. But if you do want to initialize multiple \u001b[39m\u001b[39m'\u001b[39m\n\u001b[0;32m     <a href='file:///~/AppData/Local/Programs/Python/Python310/lib/site-packages/firebase_admin/__init__.py?line=75'>76</a>\u001b[0m         \u001b[39m'\u001b[39m\u001b[39mapps, pass a second argument to initialize_app() to give each app \u001b[39m\u001b[39m'\u001b[39m\n\u001b[0;32m     <a href='file:///~/AppData/Local/Programs/Python/Python310/lib/site-packages/firebase_admin/__init__.py?line=76'>77</a>\u001b[0m         \u001b[39m'\u001b[39m\u001b[39ma unique name.\u001b[39m\u001b[39m'\u001b[39m))\n\u001b[0;32m     <a href='file:///~/AppData/Local/Programs/Python/Python310/lib/site-packages/firebase_admin/__init__.py?line=78'>79</a>\u001b[0m \u001b[39mraise\u001b[39;00m \u001b[39mValueError\u001b[39;00m((\n\u001b[0;32m     <a href='file:///~/AppData/Local/Programs/Python/Python310/lib/site-packages/firebase_admin/__init__.py?line=79'>80</a>\u001b[0m     \u001b[39m'\u001b[39m\u001b[39mFirebase app named \u001b[39m\u001b[39m\"\u001b[39m\u001b[39m{0}\u001b[39;00m\u001b[39m\"\u001b[39m\u001b[39m already exists. This means you called \u001b[39m\u001b[39m'\u001b[39m\n\u001b[0;32m     <a href='file:///~/AppData/Local/Programs/Python/Python310/lib/site-packages/firebase_admin/__init__.py?line=80'>81</a>\u001b[0m     \u001b[39m'\u001b[39m\u001b[39minitialize_app() more than once with the same app name as the \u001b[39m\u001b[39m'\u001b[39m\n\u001b[0;32m     <a href='file:///~/AppData/Local/Programs/Python/Python310/lib/site-packages/firebase_admin/__init__.py?line=81'>82</a>\u001b[0m     \u001b[39m'\u001b[39m\u001b[39msecond argument. Make sure you provide a unique name every time \u001b[39m\u001b[39m'\u001b[39m\n\u001b[0;32m     <a href='file:///~/AppData/Local/Programs/Python/Python310/lib/site-packages/firebase_admin/__init__.py?line=82'>83</a>\u001b[0m     \u001b[39m'\u001b[39m\u001b[39myou call initialize_app().\u001b[39m\u001b[39m'\u001b[39m)\u001b[39m.\u001b[39mformat(name))\n",
      "\u001b[1;31mValueError\u001b[0m: The default Firebase app already exists. This means you called initialize_app() more than once without providing an app name as the second argument. In most cases you only need to call initialize_app() once. But if you do want to initialize multiple apps, pass a second argument to initialize_app() to give each app a unique name."
     ]
    }
   ],
   "source": [
    "import firebase_admin\n",
    "from firebase_admin import credentials\n",
    "\n",
    "cred_obj = credentials.Certificate(\"unify-bridge-firebase-adminsdk-78vje-a8ec535fca.json\")\n",
    "default_app = firebase_admin.initialize_app(cred_obj, {\n",
    "\t'databaseURL':'https://unify-bridge-default-rtdb.firebaseio.com/'\n",
    "\t})"
   ]
  },
  {
   "cell_type": "code",
   "execution_count": 21,
   "metadata": {},
   "outputs": [
    {
     "name": "stdout",
     "output_type": "stream",
     "text": [
      "<firebase_admin.db.Reference object at 0x00000258C5B70D90>\n",
      "<class 'dict'>\n",
      "{'content': 'Hi', 'packageName': 'com.yowhatsapp', 'title': 'Mom'}\n"
     ]
    }
   ],
   "source": [
    "from firebase_admin import db\n",
    "\n",
    "ref = db.reference(\"notifs/lastMsg\")\n",
    "dict = ref.get()\n",
    "print(ref)\n",
    "print(type(ref.get()))\n",
    "print(ref.get())"
   ]
  },
  {
   "cell_type": "code",
   "execution_count": 41,
   "metadata": {},
   "outputs": [
    {
     "data": {
      "text/plain": [
       "True"
      ]
     },
     "execution_count": 41,
     "metadata": {},
     "output_type": "execute_result"
    }
   ],
   "source": [
    "# import win10toast\n",
    "from win10toast import ToastNotifier\n",
    "\n",
    "# create an object to ToastNotifier class\n",
    "n = ToastNotifier()\n",
    "\n",
    "message=str1+'\\n'+str2\n",
    "n.show_toast('YoWhatsapp', message, duration = 10,\n",
    "icon_path =\"android.ico\")\n"
   ]
  },
  {
   "cell_type": "code",
   "execution_count": 30,
   "metadata": {},
   "outputs": [
    {
     "name": "stdout",
     "output_type": "stream",
     "text": [
      "Hi\n"
     ]
    }
   ],
   "source": [
    "from plyer.utils import platform\n",
    "from plyer import notification\n",
    "\n",
    "str1 = dict['title']\n",
    "str2 = dict['content']\n",
    "if str2 == 'null':\n",
    "    str2 = \"\"\n",
    "print(str2)\n",
    "\n",
    "notification.notify(\n",
    "    title = 'Messages', #dict['packageName'],\n",
    "    message=str1+'\\n'+str2,\n",
    "    app_name='Here is the application name',\n",
    "    app_icon='android.ico' #+ ('ico' if platform == 'win' else 'png')\n",
    ")\n",
    "#ref.set({})"
   ]
  },
  {
   "cell_type": "code",
   "execution_count": 3,
   "metadata": {},
   "outputs": [
    {
     "name": "stderr",
     "output_type": "stream",
     "text": [
      "Exception in thread Thread-2 (balloon_tip):\n",
      "Traceback (most recent call last):\n",
      "  File \"C:\\Users\\itsrdb\\AppData\\Local\\Programs\\Python\\Python310\\lib\\threading.py\", line 1009, in _bootstrap_inner\n",
      "    self.run()\n",
      "  File \"C:\\Users\\itsrdb\\AppData\\Local\\Programs\\Python\\Python310\\lib\\threading.py\", line 946, in run\n",
      "    self._target(*self._args, **self._kwargs)\n",
      "  File \"C:\\Users\\itsrdb\\AppData\\Local\\Programs\\Python\\Python310\\lib\\site-packages\\plyer\\platforms\\win\\libs\\balloontip.py\", line 206, in balloon_tip\n",
      "    WindowsBalloonTip(**kwargs)\n",
      "  File \"C:\\Users\\itsrdb\\AppData\\Local\\Programs\\Python\\Python310\\lib\\site-packages\\plyer\\platforms\\win\\libs\\balloontip.py\", line 130, in __init__\n",
      "    raise Exception('Could not load icon {}'.format(app_icon))\n",
      "Exception: Could not load icon android-icon.png\n",
      "Exception in thread Thread-3 (balloon_tip):\n",
      "Traceback (most recent call last):\n",
      "  File \"C:\\Users\\itsrdb\\AppData\\Local\\Programs\\Python\\Python310\\lib\\threading.py\", line 1009, in _bootstrap_inner\n",
      "    self.run()\n",
      "  File \"C:\\Users\\itsrdb\\AppData\\Local\\Programs\\Python\\Python310\\lib\\threading.py\", line 946, in run\n",
      "    self._target(*self._args, **self._kwargs)\n",
      "  File \"C:\\Users\\itsrdb\\AppData\\Local\\Programs\\Python\\Python310\\lib\\site-packages\\plyer\\platforms\\win\\libs\\balloontip.py\", line 206, in balloon_tip\n",
      "    WindowsBalloonTip(**kwargs)\n",
      "  File \"C:\\Users\\itsrdb\\AppData\\Local\\Programs\\Python\\Python310\\lib\\site-packages\\plyer\\platforms\\win\\libs\\balloontip.py\", line 130, in __init__\n",
      "    raise Exception('Could not load icon {}'.format(app_icon))\n",
      "Exception: Could not load icon android-icon.png\n",
      "Exception in thread Thread-4 (balloon_tip):\n",
      "Traceback (most recent call last):\n",
      "  File \"C:\\Users\\itsrdb\\AppData\\Local\\Programs\\Python\\Python310\\lib\\threading.py\", line 1009, in _bootstrap_inner\n",
      "    self.run()\n",
      "  File \"C:\\Users\\itsrdb\\AppData\\Local\\Programs\\Python\\Python310\\lib\\threading.py\", line 946, in run\n",
      "    self._target(*self._args, **self._kwargs)\n",
      "  File \"C:\\Users\\itsrdb\\AppData\\Local\\Programs\\Python\\Python310\\lib\\site-packages\\plyer\\platforms\\win\\libs\\balloontip.py\", line 206, in balloon_tip\n",
      "    WindowsBalloonTip(**kwargs)\n",
      "  File \"C:\\Users\\itsrdb\\AppData\\Local\\Programs\\Python\\Python310\\lib\\site-packages\\plyer\\platforms\\win\\libs\\balloontip.py\", line 130, in __init__\n",
      "    raise Exception('Could not load icon {}'.format(app_icon))\n",
      "Exception: Could not load icon android-icon.png\n"
     ]
    }
   ],
   "source": [
    "from firebase_admin import db\n",
    "from plyer.utils import platform\n",
    "from plyer import notification\n",
    "\n",
    "while(1):\n",
    "    ref = db.reference(\"notifs/lastMsg\")\n",
    "    dict = ref.get()\n",
    "    #print(type(ref.get()))\n",
    "    #print(ref.get())\n",
    "    str1 = dict['title']\n",
    "    str2 = dict['content']\n",
    "    strTitle = dict['packageName']\n",
    "    if not strTitle == 'none':\n",
    "        if str2 == 'null':\n",
    "            str2 = \"\"\n",
    "        notification.notify(\n",
    "        title = strTitle,\n",
    "        message=str1+'\\n'+str2,\n",
    "        app_name='Here is the application name',\n",
    "        app_icon='android-icon.png' #+ ('ico' if platform == 'win' else 'png')\n",
    "        )\n",
    "        ref.update({\"content\":'none', \"packageName\":'none', \"title\": 'none'})"
   ]
  },
  {
   "cell_type": "code",
   "execution_count": 45,
   "metadata": {},
   "outputs": [
    {
     "ename": "AttributeError",
     "evalue": "'ToastNotifier' object has no attribute 'classAtom'",
     "output_type": "error",
     "traceback": [
      "\u001b[1;31m---------------------------------------------------------------------------\u001b[0m",
      "\u001b[1;31mAttributeError\u001b[0m                            Traceback (most recent call last)",
      "\u001b[1;32mc:\\Users\\itsrdb\\Documents\\unify_windows\\unify-win.ipynb Cell 4'\u001b[0m in \u001b[0;36m<module>\u001b[1;34m\u001b[0m\n\u001b[0;32m      <a href='vscode-notebook-cell:/c%3A/Users/itsrdb/Documents/unify_windows/unify-win.ipynb#ch0000004?line=1'>2</a>\u001b[0m n \u001b[39m=\u001b[39m ToastNotifier()\n\u001b[0;32m      <a href='vscode-notebook-cell:/c%3A/Users/itsrdb/Documents/unify_windows/unify-win.ipynb#ch0000004?line=2'>3</a>\u001b[0m stemp \u001b[39m=\u001b[39m \u001b[39mdict\u001b[39m[\u001b[39m'\u001b[39m\u001b[39mtitle\u001b[39m\u001b[39m'\u001b[39m]\u001b[39m+\u001b[39m\u001b[39m'\u001b[39m\u001b[39m\\n\u001b[39;00m\u001b[39m'\u001b[39m\u001b[39m+\u001b[39m\u001b[39mdict\u001b[39m[\u001b[39m'\u001b[39m\u001b[39mcontent\u001b[39m\u001b[39m'\u001b[39m]\n\u001b[1;32m----> <a href='vscode-notebook-cell:/c%3A/Users/itsrdb/Documents/unify_windows/unify-win.ipynb#ch0000004?line=3'>4</a>\u001b[0m n\u001b[39m.\u001b[39;49mshow_toast(\u001b[39mdict\u001b[39;49m[\u001b[39m'\u001b[39;49m\u001b[39mpackageName\u001b[39;49m\u001b[39m'\u001b[39;49m], stemp, duration \u001b[39m=\u001b[39;49m \u001b[39m10\u001b[39;49m,\n\u001b[0;32m      <a href='vscode-notebook-cell:/c%3A/Users/itsrdb/Documents/unify_windows/unify-win.ipynb#ch0000004?line=4'>5</a>\u001b[0m icon_path \u001b[39m=\u001b[39;49m\u001b[39m\"\u001b[39;49m\u001b[39m\"\u001b[39;49m)\n",
      "File \u001b[1;32m~\\AppData\\Local\\Programs\\Python\\Python310\\lib\\site-packages\\win10toast\\__init__.py:127\u001b[0m, in \u001b[0;36mToastNotifier.show_toast\u001b[1;34m(self, title, msg, icon_path, duration, threaded)\u001b[0m\n\u001b[0;32m    <a href='file:///~/AppData/Local/Programs/Python/Python310/lib/site-packages/win10toast/__init__.py?line=118'>119</a>\u001b[0m \u001b[39m\"\"\"Notification settings.\u001b[39;00m\n\u001b[0;32m    <a href='file:///~/AppData/Local/Programs/Python/Python310/lib/site-packages/win10toast/__init__.py?line=119'>120</a>\u001b[0m \n\u001b[0;32m    <a href='file:///~/AppData/Local/Programs/Python/Python310/lib/site-packages/win10toast/__init__.py?line=120'>121</a>\u001b[0m \u001b[39m:title: notification title\u001b[39;00m\n\u001b[1;32m   (...)\u001b[0m\n\u001b[0;32m    <a href='file:///~/AppData/Local/Programs/Python/Python310/lib/site-packages/win10toast/__init__.py?line=123'>124</a>\u001b[0m \u001b[39m:duration: delay in seconds before notification self-destruction\u001b[39;00m\n\u001b[0;32m    <a href='file:///~/AppData/Local/Programs/Python/Python310/lib/site-packages/win10toast/__init__.py?line=124'>125</a>\u001b[0m \u001b[39m\"\"\"\u001b[39;00m\n\u001b[0;32m    <a href='file:///~/AppData/Local/Programs/Python/Python310/lib/site-packages/win10toast/__init__.py?line=125'>126</a>\u001b[0m \u001b[39mif\u001b[39;00m \u001b[39mnot\u001b[39;00m threaded:\n\u001b[1;32m--> <a href='file:///~/AppData/Local/Programs/Python/Python310/lib/site-packages/win10toast/__init__.py?line=126'>127</a>\u001b[0m     \u001b[39mself\u001b[39;49m\u001b[39m.\u001b[39;49m_show_toast(title, msg, icon_path, duration)\n\u001b[0;32m    <a href='file:///~/AppData/Local/Programs/Python/Python310/lib/site-packages/win10toast/__init__.py?line=127'>128</a>\u001b[0m \u001b[39melse\u001b[39;00m:\n\u001b[0;32m    <a href='file:///~/AppData/Local/Programs/Python/Python310/lib/site-packages/win10toast/__init__.py?line=128'>129</a>\u001b[0m     \u001b[39mif\u001b[39;00m \u001b[39mself\u001b[39m\u001b[39m.\u001b[39mnotification_active():\n\u001b[0;32m    <a href='file:///~/AppData/Local/Programs/Python/Python310/lib/site-packages/win10toast/__init__.py?line=129'>130</a>\u001b[0m         \u001b[39m# We have an active notification, let is finish so we don't spam them\u001b[39;00m\n",
      "File \u001b[1;32m~\\AppData\\Local\\Programs\\Python\\Python310\\lib\\site-packages\\win10toast\\__init__.py:83\u001b[0m, in \u001b[0;36mToastNotifier._show_toast\u001b[1;34m(self, title, msg, icon_path, duration)\u001b[0m\n\u001b[0;32m     <a href='file:///~/AppData/Local/Programs/Python/Python310/lib/site-packages/win10toast/__init__.py?line=80'>81</a>\u001b[0m     \u001b[39mpass\u001b[39;00m \u001b[39m#not sure of this\u001b[39;00m\n\u001b[0;32m     <a href='file:///~/AppData/Local/Programs/Python/Python310/lib/site-packages/win10toast/__init__.py?line=81'>82</a>\u001b[0m style \u001b[39m=\u001b[39m WS_OVERLAPPED \u001b[39m|\u001b[39m WS_SYSMENU\n\u001b[1;32m---> <a href='file:///~/AppData/Local/Programs/Python/Python310/lib/site-packages/win10toast/__init__.py?line=82'>83</a>\u001b[0m \u001b[39mself\u001b[39m\u001b[39m.\u001b[39mhwnd \u001b[39m=\u001b[39m CreateWindow(\u001b[39mself\u001b[39;49m\u001b[39m.\u001b[39;49mclassAtom, \u001b[39m\"\u001b[39m\u001b[39mTaskbar\u001b[39m\u001b[39m\"\u001b[39m, style,\n\u001b[0;32m     <a href='file:///~/AppData/Local/Programs/Python/Python310/lib/site-packages/win10toast/__init__.py?line=83'>84</a>\u001b[0m                          \u001b[39m0\u001b[39m, \u001b[39m0\u001b[39m, CW_USEDEFAULT,\n\u001b[0;32m     <a href='file:///~/AppData/Local/Programs/Python/Python310/lib/site-packages/win10toast/__init__.py?line=84'>85</a>\u001b[0m                          CW_USEDEFAULT,\n\u001b[0;32m     <a href='file:///~/AppData/Local/Programs/Python/Python310/lib/site-packages/win10toast/__init__.py?line=85'>86</a>\u001b[0m                          \u001b[39m0\u001b[39m, \u001b[39m0\u001b[39m, \u001b[39mself\u001b[39m\u001b[39m.\u001b[39mhinst, \u001b[39mNone\u001b[39;00m)\n\u001b[0;32m     <a href='file:///~/AppData/Local/Programs/Python/Python310/lib/site-packages/win10toast/__init__.py?line=86'>87</a>\u001b[0m UpdateWindow(\u001b[39mself\u001b[39m\u001b[39m.\u001b[39mhwnd)\n\u001b[0;32m     <a href='file:///~/AppData/Local/Programs/Python/Python310/lib/site-packages/win10toast/__init__.py?line=88'>89</a>\u001b[0m \u001b[39m# icon\u001b[39;00m\n",
      "\u001b[1;31mAttributeError\u001b[0m: 'ToastNotifier' object has no attribute 'classAtom'"
     ]
    }
   ],
   "source": [
    "from win10toast import ToastNotifier\n",
    "n = ToastNotifier()\n",
    "stemp = dict['title']+'\\n'+dict['content']\n",
    "n.show_toast(dict['packageName'], stemp, duration = 10,\n",
    "icon_path =\"\")"
   ]
  },
  {
   "cell_type": "code",
   "execution_count": 29,
   "metadata": {},
   "outputs": [
    {
     "name": "stdout",
     "output_type": "stream",
     "text": [
      "Mom\n",
      "Mom\n"
     ]
    }
   ],
   "source": [
    "str1 = dict['title']\n",
    "str2 = dict['content']\n",
    "print(dict['title'])\n",
    "#stemp = str1 + str2\n",
    "print(str1)"
   ]
  },
  {
   "cell_type": "code",
   "execution_count": 36,
   "metadata": {},
   "outputs": [
    {
     "ename": "error",
     "evalue": "(1410, 'RegisterClass', 'Class already exists.')",
     "output_type": "error",
     "traceback": [
      "\u001b[1;31m---------------------------------------------------------------------------\u001b[0m",
      "\u001b[1;31merror\u001b[0m                                     Traceback (most recent call last)",
      "\u001b[1;32mc:\\Users\\itsrdb\\Documents\\unify_windows\\unify-win.ipynb Cell 5'\u001b[0m in \u001b[0;36m<module>\u001b[1;34m\u001b[0m\n\u001b[0;32m     <a href='vscode-notebook-cell:/c%3A/Users/itsrdb/Documents/unify_windows/unify-win.ipynb#ch0000006?line=46'>47</a>\u001b[0m     w\u001b[39m=\u001b[39mWindowsBalloonTip(title, msg)\n\u001b[0;32m     <a href='vscode-notebook-cell:/c%3A/Users/itsrdb/Documents/unify_windows/unify-win.ipynb#ch0000006?line=48'>49</a>\u001b[0m \u001b[39mif\u001b[39;00m \u001b[39m__name__\u001b[39m \u001b[39m==\u001b[39m \u001b[39m'\u001b[39m\u001b[39m__main__\u001b[39m\u001b[39m'\u001b[39m:\n\u001b[1;32m---> <a href='vscode-notebook-cell:/c%3A/Users/itsrdb/Documents/unify_windows/unify-win.ipynb#ch0000006?line=49'>50</a>\u001b[0m     balloon_tip(\u001b[39m\"\u001b[39;49m\u001b[39mTitle for popup\u001b[39;49m\u001b[39m\"\u001b[39;49m, \u001b[39m\"\u001b[39;49m\u001b[39mThis is the popup\u001b[39;49m\u001b[39m'\u001b[39;49m\u001b[39ms message\u001b[39;49m\u001b[39m\"\u001b[39;49m)\n",
      "\u001b[1;32mc:\\Users\\itsrdb\\Documents\\unify_windows\\unify-win.ipynb Cell 5'\u001b[0m in \u001b[0;36mballoon_tip\u001b[1;34m(title, msg)\u001b[0m\n\u001b[0;32m     <a href='vscode-notebook-cell:/c%3A/Users/itsrdb/Documents/unify_windows/unify-win.ipynb#ch0000006?line=45'>46</a>\u001b[0m \u001b[39mdef\u001b[39;00m \u001b[39mballoon_tip\u001b[39m(title, msg):\n\u001b[1;32m---> <a href='vscode-notebook-cell:/c%3A/Users/itsrdb/Documents/unify_windows/unify-win.ipynb#ch0000006?line=46'>47</a>\u001b[0m     w\u001b[39m=\u001b[39mWindowsBalloonTip(title, msg)\n",
      "\u001b[1;32mc:\\Users\\itsrdb\\Documents\\unify_windows\\unify-win.ipynb Cell 5'\u001b[0m in \u001b[0;36mWindowsBalloonTip.__init__\u001b[1;34m(self, title, msg)\u001b[0m\n\u001b[0;32m     <a href='vscode-notebook-cell:/c%3A/Users/itsrdb/Documents/unify_windows/unify-win.ipynb#ch0000006?line=15'>16</a>\u001b[0m wc\u001b[39m.\u001b[39mlpszClassName \u001b[39m=\u001b[39m \u001b[39m\"\u001b[39m\u001b[39mPythonTaskbar\u001b[39m\u001b[39m\"\u001b[39m\n\u001b[0;32m     <a href='vscode-notebook-cell:/c%3A/Users/itsrdb/Documents/unify_windows/unify-win.ipynb#ch0000006?line=16'>17</a>\u001b[0m wc\u001b[39m.\u001b[39mlpfnWndProc \u001b[39m=\u001b[39m message_map \u001b[39m# could also specify a wndproc.\u001b[39;00m\n\u001b[1;32m---> <a href='vscode-notebook-cell:/c%3A/Users/itsrdb/Documents/unify_windows/unify-win.ipynb#ch0000006?line=17'>18</a>\u001b[0m classAtom \u001b[39m=\u001b[39m RegisterClass(wc)\n\u001b[0;32m     <a href='vscode-notebook-cell:/c%3A/Users/itsrdb/Documents/unify_windows/unify-win.ipynb#ch0000006?line=18'>19</a>\u001b[0m \u001b[39m# Create the Window.\u001b[39;00m\n\u001b[0;32m     <a href='vscode-notebook-cell:/c%3A/Users/itsrdb/Documents/unify_windows/unify-win.ipynb#ch0000006?line=19'>20</a>\u001b[0m style \u001b[39m=\u001b[39m win32con\u001b[39m.\u001b[39mWS_OVERLAPPED \u001b[39m|\u001b[39m win32con\u001b[39m.\u001b[39mWS_SYSMENU\n",
      "\u001b[1;31merror\u001b[0m: (1410, 'RegisterClass', 'Class already exists.')"
     ]
    }
   ],
   "source": [
    "from win32api import *\n",
    "from win32gui import *\n",
    "import win32con\n",
    "import sys, os\n",
    "import struct\n",
    "import time\n",
    "\n",
    "class WindowsBalloonTip:\n",
    "    def __init__(self, title, msg):\n",
    "        message_map = {\n",
    "                win32con.WM_DESTROY: self.OnDestroy,\n",
    "        }\n",
    "        # Register the Window class.\n",
    "        wc = WNDCLASS()\n",
    "        hinst = wc.hInstance = GetModuleHandle(None)\n",
    "        wc.lpszClassName = \"PythonTaskbar\"\n",
    "        wc.lpfnWndProc = message_map # could also specify a wndproc.\n",
    "        classAtom = RegisterClass(wc)\n",
    "        # Create the Window.\n",
    "        style = win32con.WS_OVERLAPPED | win32con.WS_SYSMENU\n",
    "        self.hwnd = CreateWindow( classAtom, \"Taskbar\", style, \\\n",
    "                0, 0, win32con.CW_USEDEFAULT, win32con.CW_USEDEFAULT, \\\n",
    "                0, 0, hinst, None)\n",
    "        UpdateWindow(self.hwnd)\n",
    "        iconPathName = os.path.abspath(os.path.join( sys.path[0], \"balloontip.ico\" ))\n",
    "        icon_flags = win32con.LR_LOADFROMFILE | win32con.LR_DEFAULTSIZE\n",
    "        try:\n",
    "           hicon = LoadImage(hinst, iconPathName, \\\n",
    "                    win32con.IMAGE_ICON, 0, 0, icon_flags)\n",
    "        except:\n",
    "          hicon = LoadIcon(0, win32con.IDI_APPLICATION)\n",
    "        flags = NIF_ICON | NIF_MESSAGE | NIF_TIP\n",
    "        nid = (self.hwnd, 0, flags, win32con.WM_USER+20, hicon, \"tooltip\")\n",
    "        Shell_NotifyIcon(NIM_ADD, nid)\n",
    "        Shell_NotifyIcon(NIM_MODIFY, \\\n",
    "                         (self.hwnd, 0, NIF_INFO, win32con.WM_USER+20,\\\n",
    "                          hicon, \"Balloon  tooltip\",msg,200,title))\n",
    "        # self.show_balloon(title, msg)\n",
    "        time.sleep(10)\n",
    "        DestroyWindow(self.hwnd)\n",
    "    def OnDestroy(self, hwnd, msg, wparam, lparam):\n",
    "        nid = (self.hwnd, 0)\n",
    "        Shell_NotifyIcon(NIM_DELETE, nid)\n",
    "        PostQuitMessage(0) # Terminate the app.\n",
    "\n",
    "def balloon_tip(title, msg):\n",
    "    w=WindowsBalloonTip(title, msg)\n",
    "\n",
    "if __name__ == '__main__':\n",
    "    balloon_tip(\"Title for popup\", \"This is the popup's message\")"
   ]
  },
  {
   "cell_type": "code",
   "execution_count": 35,
   "metadata": {},
   "outputs": [
    {
     "ename": "error",
     "evalue": "(1410, 'RegisterClass', 'Class already exists.')",
     "output_type": "error",
     "traceback": [
      "\u001b[1;31m---------------------------------------------------------------------------\u001b[0m",
      "\u001b[1;31merror\u001b[0m                                     Traceback (most recent call last)",
      "\u001b[1;32mc:\\Users\\itsrdb\\Documents\\unify_windows\\unify-win.ipynb Cell 6'\u001b[0m in \u001b[0;36m<module>\u001b[1;34m\u001b[0m\n\u001b[1;32m----> <a href='vscode-notebook-cell:/c%3A/Users/itsrdb/Documents/unify_windows/unify-win.ipynb#ch0000007?line=0'>1</a>\u001b[0m balloon_tip(\u001b[39m\"\u001b[39;49m\u001b[39mTitle Hey for popup\u001b[39;49m\u001b[39m\"\u001b[39;49m, \u001b[39m\"\u001b[39;49m\u001b[39mThis is the popup\u001b[39;49m\u001b[39m'\u001b[39;49m\u001b[39ms message\u001b[39;49m\u001b[39m\"\u001b[39;49m)\n",
      "\u001b[1;32mc:\\Users\\itsrdb\\Documents\\unify_windows\\unify-win.ipynb Cell 5'\u001b[0m in \u001b[0;36mballoon_tip\u001b[1;34m(title, msg)\u001b[0m\n\u001b[0;32m     <a href='vscode-notebook-cell:/c%3A/Users/itsrdb/Documents/unify_windows/unify-win.ipynb#ch0000006?line=45'>46</a>\u001b[0m \u001b[39mdef\u001b[39;00m \u001b[39mballoon_tip\u001b[39m(title, msg):\n\u001b[1;32m---> <a href='vscode-notebook-cell:/c%3A/Users/itsrdb/Documents/unify_windows/unify-win.ipynb#ch0000006?line=46'>47</a>\u001b[0m     w\u001b[39m=\u001b[39mWindowsBalloonTip(title, msg)\n",
      "\u001b[1;32mc:\\Users\\itsrdb\\Documents\\unify_windows\\unify-win.ipynb Cell 5'\u001b[0m in \u001b[0;36mWindowsBalloonTip.__init__\u001b[1;34m(self, title, msg)\u001b[0m\n\u001b[0;32m     <a href='vscode-notebook-cell:/c%3A/Users/itsrdb/Documents/unify_windows/unify-win.ipynb#ch0000006?line=15'>16</a>\u001b[0m wc\u001b[39m.\u001b[39mlpszClassName \u001b[39m=\u001b[39m \u001b[39m\"\u001b[39m\u001b[39mPythonTaskbar\u001b[39m\u001b[39m\"\u001b[39m\n\u001b[0;32m     <a href='vscode-notebook-cell:/c%3A/Users/itsrdb/Documents/unify_windows/unify-win.ipynb#ch0000006?line=16'>17</a>\u001b[0m wc\u001b[39m.\u001b[39mlpfnWndProc \u001b[39m=\u001b[39m message_map \u001b[39m# could also specify a wndproc.\u001b[39;00m\n\u001b[1;32m---> <a href='vscode-notebook-cell:/c%3A/Users/itsrdb/Documents/unify_windows/unify-win.ipynb#ch0000006?line=17'>18</a>\u001b[0m classAtom \u001b[39m=\u001b[39m RegisterClass(wc)\n\u001b[0;32m     <a href='vscode-notebook-cell:/c%3A/Users/itsrdb/Documents/unify_windows/unify-win.ipynb#ch0000006?line=18'>19</a>\u001b[0m \u001b[39m# Create the Window.\u001b[39;00m\n\u001b[0;32m     <a href='vscode-notebook-cell:/c%3A/Users/itsrdb/Documents/unify_windows/unify-win.ipynb#ch0000006?line=19'>20</a>\u001b[0m style \u001b[39m=\u001b[39m win32con\u001b[39m.\u001b[39mWS_OVERLAPPED \u001b[39m|\u001b[39m win32con\u001b[39m.\u001b[39mWS_SYSMENU\n",
      "\u001b[1;31merror\u001b[0m: (1410, 'RegisterClass', 'Class already exists.')"
     ]
    }
   ],
   "source": [
    "balloon_tip(\"Title Hey for popup\", \"This is the popup's message\")"
   ]
  }
 ],
 "metadata": {
  "interpreter": {
   "hash": "826a181a0f2bb2322ca80f152a76fcaa0301c0aae4dede0cbdd2262df241f545"
  },
  "kernelspec": {
   "display_name": "Python 3.10.1 64-bit",
   "language": "python",
   "name": "python3"
  },
  "language_info": {
   "codemirror_mode": {
    "name": "ipython",
    "version": 3
   },
   "file_extension": ".py",
   "mimetype": "text/x-python",
   "name": "python",
   "nbconvert_exporter": "python",
   "pygments_lexer": "ipython3",
   "version": "3.10.1"
  },
  "orig_nbformat": 4
 },
 "nbformat": 4,
 "nbformat_minor": 2
}
